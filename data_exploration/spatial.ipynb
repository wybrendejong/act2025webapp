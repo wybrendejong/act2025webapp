{
 "cells": [
  {
   "cell_type": "code",
   "execution_count": 1,
   "id": "7cc2af9c",
   "metadata": {},
   "outputs": [],
   "source": [
    "# Imports\n",
    "import pandas as pd\n",
    "import geopandas as gpd\n",
    "import numpy as np\n",
    "import matplotlib.pyplot as plt\n",
    "import seaborn as sns\n",
    "\n",
    "from data_loading import demographics, weather, rats, geography\n",
    "\n",
    "data_folder_path = \"C:/Users/jerom/OneDrive/Documents/Uni/MGI/RS and GIS integration/ACT Python Environment/Data/\"\n",
    "\n",
    "rat_df = rats.load_rm_data(data_folder_path + \"Rat_Monitor_export.xlsx\")\n",
    "cbs_df = demographics.load_cbs_data(data_folder_path + \"cbs_pc4_2024_v1.gpkg\")\n",
    "\n",
    "pc_rat_df = rats.group_by_postcode(rat_df)\n",
    "month_rat_df = rats.group_by_month(rat_df)"
   ]
  },
  {
   "cell_type": "markdown",
   "id": "283fb2c5",
   "metadata": {},
   "source": [
    "### Spatial Autocorrelation"
   ]
  },
  {
   "cell_type": "code",
   "execution_count": 6,
   "id": "cdd423fb",
   "metadata": {},
   "outputs": [
    {
     "name": "stderr",
     "output_type": "stream",
     "text": [
      "C:\\Users\\jerom\\AppData\\Local\\Temp\\ipykernel_32140\\2466259358.py:13: FutureWarning: `use_index` defaults to False but will default to True in future. Set True/False directly to control this behavior and silence this warning\n",
      "  w = libpysal.weights.Queen.from_dataframe(gdf)\n",
      "c:\\Users\\jerom\\OneDrive\\Documents\\Uni\\MGI\\RS and GIS integration\\ACT Python Environment\\.venv\\Lib\\site-packages\\libpysal\\weights\\contiguity.py:347: UserWarning: The weights matrix is not fully connected: \n",
      " There are 34 disconnected components.\n",
      " There are 25 islands with ids: 294, 545, 1254, 1288, 1877, 2331, 2951, 2994, 3149, 3332, 3334, 3359, 3426, 3428, 3450, 3467, 3473, 3481, 3512, 3564, 3614, 3621, 3762, 3811, 3965.\n",
      "  W.__init__(self, neighbors, ids=ids, **kw)\n"
     ]
    },
    {
     "name": "stdout",
     "output_type": "stream",
     "text": [
      "('WARNING: ', 294, ' is an island (no neighbors)')\n",
      "('WARNING: ', 545, ' is an island (no neighbors)')\n",
      "('WARNING: ', 1254, ' is an island (no neighbors)')\n",
      "('WARNING: ', 1288, ' is an island (no neighbors)')\n",
      "('WARNING: ', 1877, ' is an island (no neighbors)')\n",
      "('WARNING: ', 2331, ' is an island (no neighbors)')\n",
      "('WARNING: ', 2951, ' is an island (no neighbors)')\n",
      "('WARNING: ', 2994, ' is an island (no neighbors)')\n",
      "('WARNING: ', 3149, ' is an island (no neighbors)')\n",
      "('WARNING: ', 3332, ' is an island (no neighbors)')\n",
      "('WARNING: ', 3334, ' is an island (no neighbors)')\n",
      "('WARNING: ', 3359, ' is an island (no neighbors)')\n",
      "('WARNING: ', 3426, ' is an island (no neighbors)')\n",
      "('WARNING: ', 3428, ' is an island (no neighbors)')\n",
      "('WARNING: ', 3450, ' is an island (no neighbors)')\n",
      "('WARNING: ', 3467, ' is an island (no neighbors)')\n",
      "('WARNING: ', 3473, ' is an island (no neighbors)')\n",
      "('WARNING: ', 3481, ' is an island (no neighbors)')\n",
      "('WARNING: ', 3512, ' is an island (no neighbors)')\n",
      "('WARNING: ', 3564, ' is an island (no neighbors)')\n",
      "('WARNING: ', 3614, ' is an island (no neighbors)')\n",
      "('WARNING: ', 3621, ' is an island (no neighbors)')\n",
      "('WARNING: ', 3762, ' is an island (no neighbors)')\n",
      "('WARNING: ', 3811, ' is an island (no neighbors)')\n",
      "('WARNING: ', 3965, ' is an island (no neighbors)')\n",
      "Moran's I: 0.408, p-value: 0.001\n"
     ]
    }
   ],
   "source": [
    "import esda\n",
    "import libpysal\n",
    "\n",
    "# Ensure both indices are of the same type before joining\n",
    "cbs_df.index = cbs_df.index.astype(int)\n",
    "pc_rat_df.index = pc_rat_df.index.astype(int)\n",
    "\n",
    "# Use your GeoDataFrame with geometry and 'TOTAAL'\n",
    "gdf = cbs_df.join(pc_rat_df, on='postcode', how='left')\n",
    "gdf['TOTAAL'] = gdf['TOTAAL'].fillna(0)\n",
    "\n",
    "# Build spatial weights (Queen contiguity)\n",
    "w = libpysal.weights.Queen.from_dataframe(gdf)\n",
    "w.transform = 'r'\n",
    "\n",
    "# Calculate Moran's I\n",
    "moran = esda.Moran(gdf['TOTAAL'], w)\n",
    "print(f\"Moran's I: {moran.I:.3f}, p-value: {moran.p_sim:.3f}\")"
   ]
  }
 ],
 "metadata": {
  "kernelspec": {
   "display_name": ".venv",
   "language": "python",
   "name": "python3"
  },
  "language_info": {
   "codemirror_mode": {
    "name": "ipython",
    "version": 3
   },
   "file_extension": ".py",
   "mimetype": "text/x-python",
   "name": "python",
   "nbconvert_exporter": "python",
   "pygments_lexer": "ipython3",
   "version": "3.12.0"
  }
 },
 "nbformat": 4,
 "nbformat_minor": 5
}
